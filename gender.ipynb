{
 "cells": [
  {
   "cell_type": "code",
   "execution_count": 3,
   "metadata": {},
   "outputs": [],
   "source": [
    "import pandas as pd\n",
    "\n",
    "demo_cols = ['Ethnic_Description', 'Voters_Age', 'Parties_Description','Voters_Gender','County', 'Precinct']\n",
    "dataset = pd.read_csv(\"VM2--MA--2022-12-31-DEMOGRAPHIC.tab\", delimiter='\\t', usecols=demo_cols, encoding='latin-1')"
   ]
  },
  {
   "cell_type": "code",
   "execution_count": 4,
   "metadata": {},
   "outputs": [
    {
     "data": {
      "text/plain": [
       "<bound method NDFrame.describe of         Voters_Gender  Voters_Age Parties_Description   Ethnic_Description  \\\n",
       "0                   M        43.0        Non-Partisan                  NaN   \n",
       "1                   F        60.0          Democratic                Irish   \n",
       "2                   F        48.0        Non-Partisan  Dutch (Netherlands)   \n",
       "3                   M        47.0        Non-Partisan        English/Welsh   \n",
       "4                   F        68.0          Democratic        English/Welsh   \n",
       "...               ...         ...                 ...                  ...   \n",
       "4528429             F        35.0        Non-Partisan             Hispanic   \n",
       "4528430             F        28.0        Non-Partisan             Hispanic   \n",
       "4528431             M        22.0        Non-Partisan             Hispanic   \n",
       "4528432             F        68.0          Democratic              Swedish   \n",
       "4528433             M        48.0        Non-Partisan             Hispanic   \n",
       "\n",
       "             County        Precinct  \n",
       "0        BARNSTABLE             NaN  \n",
       "1        BARNSTABLE             NaN  \n",
       "2        BARNSTABLE             NaN  \n",
       "3        BARNSTABLE             NaN  \n",
       "4        BARNSTABLE             NaN  \n",
       "...             ...             ...  \n",
       "4528429   WORCESTER  WORCESTER 10-6  \n",
       "4528430   WORCESTER  WORCESTER 10-6  \n",
       "4528431   WORCESTER  WORCESTER 10-6  \n",
       "4528432   WORCESTER  WORCESTER 10-6  \n",
       "4528433   WORCESTER  WORCESTER 10-6  \n",
       "\n",
       "[4528434 rows x 6 columns]>"
      ]
     },
     "execution_count": 4,
     "metadata": {},
     "output_type": "execute_result"
    }
   ],
   "source": [
    "dataset.describe"
   ]
  },
  {
   "cell_type": "code",
   "execution_count": 5,
   "metadata": {},
   "outputs": [
    {
     "name": "stdout",
     "output_type": "stream",
     "text": [
      "Total Population\n",
      "Male Voters: 46.94649408603504\n",
      "Female Voters: 52.496514247530165\n"
     ]
    }
   ],
   "source": [
    "male = (dataset[\"Voters_Gender\"]==\"M\").sum()\n",
    "female = (dataset[\"Voters_Gender\"]==\"F\").sum()\n",
    "total = len(dataset)\n",
    "print(\"Total Population\")\n",
    "print(\"Male Voters:\",male*100/total)\n",
    "print(\"Female Voters:\",female*100/total)"
   ]
  },
  {
   "cell_type": "code",
   "execution_count": 6,
   "metadata": {},
   "outputs": [
    {
     "name": "stdout",
     "output_type": "stream",
     "text": [
      "Hispanic Population\n",
      "Male Voters: 46.7237729115496\n",
      "Female Voters: 52.170623626472604\n"
     ]
    }
   ],
   "source": [
    "male_hisp = ((dataset[\"Voters_Gender\"]==\"M\") & (dataset[\"Ethnic_Description\"] ==\"Hispanic\")).sum()\n",
    "\n",
    "female_hisp = ((dataset[\"Voters_Gender\"]==\"F\") & (dataset[\"Ethnic_Description\"] ==\"Hispanic\")).sum()\n",
    "\n",
    "total = (dataset[\"Ethnic_Description\"] ==\"Hispanic\").sum()\n",
    "print(\"Hispanic Population\")\n",
    "print(\"Male Voters:\",male_hisp*100/total)\n",
    "print(\"Female Voters:\",female_hisp*100/total)"
   ]
  },
  {
   "cell_type": "code",
   "execution_count": 7,
   "metadata": {},
   "outputs": [
    {
     "data": {
      "image/png": "[encoded data removed]",
      "text/plain": [
       "<Figure size 640x480 with 1 Axes>"
      ]
     },
     "metadata": {},
     "output_type": "display_data"
    }
   ],
   "source": [
    "import matplotlib.pyplot as plt\n",
    "import seaborn as sns\n",
    "\n",
    "#define data\n",
    "data = [male, female]\n",
    "labels = [\"Male\", \"Female\"]\n",
    "\n",
    "#define Seaborn color palette to use\n",
    "colors = sns.color_palette('pastel')[0:2]\n",
    "\n",
    "#create pie chart\n",
    "plt.pie(data, labels = labels, colors = colors, autopct='%.0f%%')\n",
    "plt.show()"
   ]
  },
  {
   "cell_type": "code",
   "execution_count": 8,
   "metadata": {},
   "outputs": [
    {
     "data": {
      "image/png": "[encoded data removed]",
      "text/plain": [
       "<Figure size 640x480 with 1 Axes>"
      ]
     },
     "metadata": {},
     "output_type": "display_data"
    }
   ],
   "source": [
    "import matplotlib.pyplot as plt\n",
    "import seaborn as sns\n",
    "\n",
    "#define data\n",
    "data = [male_hisp, female_hisp]\n",
    "labels = [\"Male\", \"Female\"]\n",
    "\n",
    "#define Seaborn color palette to use\n",
    "colors = sns.color_palette('pastel')[0:3]\n",
    "\n",
    "#create pie chart\n",
    "plt.pie(data, labels = labels, colors = colors, autopct='%.0f%%')\n",
    "plt.show()"
   ]
  },
  {
   "cell_type": "code",
   "execution_count": null,
   "metadata": {},
   "outputs": [],
   "source": [
    "import pandas as pd\n",
    "\n",
    "demo_cols = ['Ethnic_Description', 'Voters_Age', 'Parties_Description','Voters_Gender','County', 'Precinct']\n",
    "data_demo = pd.read_csv('DEMOGRAPHIC.tab', delimiter='\\t', usecols=demo_cols, encoding='latin-1')"
   ]
  }
 ],
 "metadata": {
  "kernelspec": {
   "display_name": "Python 3",
   "language": "python",
   "name": "python3"
  },
  "language_info": {
   "codemirror_mode": {
    "name": "ipython",
    "version": 3
   },
   "file_extension": ".py",
   "mimetype": "text/x-python",
   "name": "python",
   "nbconvert_exporter": "python",
   "pygments_lexer": "ipython3",
   "version": "3.9.0"
  },
  "orig_nbformat": 4
 },
 "nbformat": 4,
 "nbformat_minor": 2
}
